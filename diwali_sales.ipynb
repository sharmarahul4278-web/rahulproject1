{
 "cells": [
  {
   "cell_type": "code",
   "execution_count": 2,
   "id": "c14bc920-249d-44b5-b402-77fa98da607b",
   "metadata": {},
   "outputs": [],
   "source": [
    "import pandas as pd\n",
    "import numpy as np\n",
    "import seaborn as sns\n",
    "import matplotlib.pyplot as plt"
   ]
  },
  {
   "cell_type": "code",
   "execution_count": 3,
   "id": "88fb9c08-9db1-465c-84bc-cc24b4a75710",
   "metadata": {},
   "outputs": [
    {
     "name": "stdout",
     "output_type": "stream",
     "text": [
      "/c/Users/Rahul/Desktop/code\n"
     ]
    }
   ],
   "source": [
    "!pwd"
   ]
  },
  {
   "cell_type": "code",
   "execution_count": 4,
   "id": "79a107b6-8420-4a2c-a7d4-f5048d04bb16",
   "metadata": {},
   "outputs": [
    {
     "name": "stdout",
     "output_type": "stream",
     "text": [
      "/c/Users/Rahul/Downloads/desktop.ini\n",
      "/c/Users/Rahul/Downloads/diwali_sales_data.csv\n"
     ]
    }
   ],
   "source": [
    "!ls /c/Users/Rahul/Downloads/d*"
   ]
  },
  {
   "cell_type": "code",
   "execution_count": 5,
   "id": "369bae36-2fdc-4839-87c2-9ec4bb7addce",
   "metadata": {},
   "outputs": [],
   "source": [
    "df = pd.read_csv(r\"C:\\Users\\Rahul\\Downloads\\diwali_sales_data.csv\", encoding=\"latin-1\")\n"
   ]
  },
  {
   "cell_type": "code",
   "execution_count": 6,
   "id": "86c4c332-963b-42fb-b518-85b24c1f2434",
   "metadata": {},
   "outputs": [],
   "source": [
    "df = pd.read_csv(\"C:\\\\Users\\\\Rahul\\\\Downloads\\\\diwali_sales_data.csv\", encoding=\"latin-1\")\n"
   ]
  },
  {
   "cell_type": "code",
   "execution_count": 7,
   "id": "0a60771b-6295-4600-8749-68305b30ec04",
   "metadata": {},
   "outputs": [
    {
     "data": {
      "text/html": [
       "<div>\n",
       "<style scoped>\n",
       "    .dataframe tbody tr th:only-of-type {\n",
       "        vertical-align: middle;\n",
       "    }\n",
       "\n",
       "    .dataframe tbody tr th {\n",
       "        vertical-align: top;\n",
       "    }\n",
       "\n",
       "    .dataframe thead th {\n",
       "        text-align: right;\n",
       "    }\n",
       "</style>\n",
       "<table border=\"1\" class=\"dataframe\">\n",
       "  <thead>\n",
       "    <tr style=\"text-align: right;\">\n",
       "      <th></th>\n",
       "      <th>User_ID</th>\n",
       "      <th>Age</th>\n",
       "      <th>Marital_Status</th>\n",
       "      <th>Orders</th>\n",
       "      <th>Amount</th>\n",
       "      <th>Status</th>\n",
       "      <th>unnamed1</th>\n",
       "    </tr>\n",
       "  </thead>\n",
       "  <tbody>\n",
       "    <tr>\n",
       "      <th>count</th>\n",
       "      <td>1.125100e+04</td>\n",
       "      <td>11251.000000</td>\n",
       "      <td>11251.000000</td>\n",
       "      <td>11251.000000</td>\n",
       "      <td>11239.000000</td>\n",
       "      <td>0.0</td>\n",
       "      <td>0.0</td>\n",
       "    </tr>\n",
       "    <tr>\n",
       "      <th>mean</th>\n",
       "      <td>1.003004e+06</td>\n",
       "      <td>35.421207</td>\n",
       "      <td>0.420318</td>\n",
       "      <td>2.489290</td>\n",
       "      <td>9453.610858</td>\n",
       "      <td>NaN</td>\n",
       "      <td>NaN</td>\n",
       "    </tr>\n",
       "    <tr>\n",
       "      <th>std</th>\n",
       "      <td>1.716125e+03</td>\n",
       "      <td>12.754122</td>\n",
       "      <td>0.493632</td>\n",
       "      <td>1.115047</td>\n",
       "      <td>5222.355869</td>\n",
       "      <td>NaN</td>\n",
       "      <td>NaN</td>\n",
       "    </tr>\n",
       "    <tr>\n",
       "      <th>min</th>\n",
       "      <td>1.000001e+06</td>\n",
       "      <td>12.000000</td>\n",
       "      <td>0.000000</td>\n",
       "      <td>1.000000</td>\n",
       "      <td>188.000000</td>\n",
       "      <td>NaN</td>\n",
       "      <td>NaN</td>\n",
       "    </tr>\n",
       "    <tr>\n",
       "      <th>25%</th>\n",
       "      <td>1.001492e+06</td>\n",
       "      <td>27.000000</td>\n",
       "      <td>0.000000</td>\n",
       "      <td>1.500000</td>\n",
       "      <td>5443.000000</td>\n",
       "      <td>NaN</td>\n",
       "      <td>NaN</td>\n",
       "    </tr>\n",
       "    <tr>\n",
       "      <th>50%</th>\n",
       "      <td>1.003065e+06</td>\n",
       "      <td>33.000000</td>\n",
       "      <td>0.000000</td>\n",
       "      <td>2.000000</td>\n",
       "      <td>8109.000000</td>\n",
       "      <td>NaN</td>\n",
       "      <td>NaN</td>\n",
       "    </tr>\n",
       "    <tr>\n",
       "      <th>75%</th>\n",
       "      <td>1.004430e+06</td>\n",
       "      <td>43.000000</td>\n",
       "      <td>1.000000</td>\n",
       "      <td>3.000000</td>\n",
       "      <td>12675.000000</td>\n",
       "      <td>NaN</td>\n",
       "      <td>NaN</td>\n",
       "    </tr>\n",
       "    <tr>\n",
       "      <th>max</th>\n",
       "      <td>1.006040e+06</td>\n",
       "      <td>92.000000</td>\n",
       "      <td>1.000000</td>\n",
       "      <td>4.000000</td>\n",
       "      <td>23952.000000</td>\n",
       "      <td>NaN</td>\n",
       "      <td>NaN</td>\n",
       "    </tr>\n",
       "  </tbody>\n",
       "</table>\n",
       "</div>"
      ],
      "text/plain": [
       "            User_ID           Age  Marital_Status        Orders        Amount  \\\n",
       "count  1.125100e+04  11251.000000    11251.000000  11251.000000  11239.000000   \n",
       "mean   1.003004e+06     35.421207        0.420318      2.489290   9453.610858   \n",
       "std    1.716125e+03     12.754122        0.493632      1.115047   5222.355869   \n",
       "min    1.000001e+06     12.000000        0.000000      1.000000    188.000000   \n",
       "25%    1.001492e+06     27.000000        0.000000      1.500000   5443.000000   \n",
       "50%    1.003065e+06     33.000000        0.000000      2.000000   8109.000000   \n",
       "75%    1.004430e+06     43.000000        1.000000      3.000000  12675.000000   \n",
       "max    1.006040e+06     92.000000        1.000000      4.000000  23952.000000   \n",
       "\n",
       "       Status  unnamed1  \n",
       "count     0.0       0.0  \n",
       "mean      NaN       NaN  \n",
       "std       NaN       NaN  \n",
       "min       NaN       NaN  \n",
       "25%       NaN       NaN  \n",
       "50%       NaN       NaN  \n",
       "75%       NaN       NaN  \n",
       "max       NaN       NaN  "
      ]
     },
     "execution_count": 7,
     "metadata": {},
     "output_type": "execute_result"
    }
   ],
   "source": [
    " df.describe()"
   ]
  },
  {
   "cell_type": "code",
   "execution_count": 8,
   "id": "2bb37538-ae91-4455-b8d2-c09396e5f088",
   "metadata": {},
   "outputs": [
    {
     "data": {
      "text/plain": [
       "Index(['User_ID', 'Cust_name', 'Product_ID', 'Gender', 'Age Group', 'Age',\n",
       "       'Marital_Status', 'State', 'Zone', 'Occupation', 'Product_Category',\n",
       "       'Orders', 'Amount', 'Status', 'unnamed1'],\n",
       "      dtype='object')"
      ]
     },
     "execution_count": 8,
     "metadata": {},
     "output_type": "execute_result"
    }
   ],
   "source": [
    "df.columns"
   ]
  },
  {
   "cell_type": "code",
   "execution_count": 9,
   "id": "424d5724-abc0-4ad7-8291-7ff04511e21b",
   "metadata": {},
   "outputs": [
    {
     "data": {
      "text/plain": [
       "(11251, 15)"
      ]
     },
     "execution_count": 9,
     "metadata": {},
     "output_type": "execute_result"
    }
   ],
   "source": [
    "df.shape"
   ]
  },
  {
   "cell_type": "code",
   "execution_count": 10,
   "id": "28fead1c-8189-40d0-b3b5-d7e47e349b06",
   "metadata": {},
   "outputs": [
    {
     "data": {
      "text/plain": [
       "count     11251\n",
       "unique        7\n",
       "top       26-35\n",
       "freq       4543\n",
       "Name: Age Group, dtype: object"
      ]
     },
     "execution_count": 10,
     "metadata": {},
     "output_type": "execute_result"
    }
   ],
   "source": [
    "df[\"Age Group\"].describe()"
   ]
  },
  {
   "cell_type": "code",
   "execution_count": 11,
   "id": "dabffbca-c370-406e-aeb0-dfac7e8d90f0",
   "metadata": {},
   "outputs": [
    {
     "data": {
      "text/plain": [
       "array(['26-35', '0-17', '18-25', '55+', '46-50', '51-55', '36-45'],\n",
       "      dtype=object)"
      ]
     },
     "execution_count": 11,
     "metadata": {},
     "output_type": "execute_result"
    }
   ],
   "source": [
    "df[\"Age Group\"].unique()"
   ]
  },
  {
   "cell_type": "code",
   "execution_count": 12,
   "id": "87c7e939-0048-4467-b94a-d7e157b2a56e",
   "metadata": {},
   "outputs": [
    {
     "name": "stderr",
     "output_type": "stream",
     "text": [
      "C:\\Users\\Rahul\\AppData\\Local\\Temp\\ipykernel_15932\\3500804841.py:1: FutureWarning: The provided callable <built-in function sum> is currently using SeriesGroupBy.sum. In a future version of pandas, the provided callable will be used directly. To keep current behavior pass the string \"sum\" instead.\n",
      "  df.groupby(\"Age Group\").agg({\"Orders\":sum})\n"
     ]
    },
    {
     "data": {
      "text/html": [
       "<div>\n",
       "<style scoped>\n",
       "    .dataframe tbody tr th:only-of-type {\n",
       "        vertical-align: middle;\n",
       "    }\n",
       "\n",
       "    .dataframe tbody tr th {\n",
       "        vertical-align: top;\n",
       "    }\n",
       "\n",
       "    .dataframe thead th {\n",
       "        text-align: right;\n",
       "    }\n",
       "</style>\n",
       "<table border=\"1\" class=\"dataframe\">\n",
       "  <thead>\n",
       "    <tr style=\"text-align: right;\">\n",
       "      <th></th>\n",
       "      <th>Orders</th>\n",
       "    </tr>\n",
       "    <tr>\n",
       "      <th>Age Group</th>\n",
       "      <th></th>\n",
       "    </tr>\n",
       "  </thead>\n",
       "  <tbody>\n",
       "    <tr>\n",
       "      <th>0-17</th>\n",
       "      <td>690</td>\n",
       "    </tr>\n",
       "    <tr>\n",
       "      <th>18-25</th>\n",
       "      <td>4650</td>\n",
       "    </tr>\n",
       "    <tr>\n",
       "      <th>26-35</th>\n",
       "      <td>11398</td>\n",
       "    </tr>\n",
       "    <tr>\n",
       "      <th>36-45</th>\n",
       "      <td>5697</td>\n",
       "    </tr>\n",
       "    <tr>\n",
       "      <th>46-50</th>\n",
       "      <td>2379</td>\n",
       "    </tr>\n",
       "    <tr>\n",
       "      <th>51-55</th>\n",
       "      <td>2116</td>\n",
       "    </tr>\n",
       "    <tr>\n",
       "      <th>55+</th>\n",
       "      <td>1077</td>\n",
       "    </tr>\n",
       "  </tbody>\n",
       "</table>\n",
       "</div>"
      ],
      "text/plain": [
       "           Orders\n",
       "Age Group        \n",
       "0-17          690\n",
       "18-25        4650\n",
       "26-35       11398\n",
       "36-45        5697\n",
       "46-50        2379\n",
       "51-55        2116\n",
       "55+          1077"
      ]
     },
     "execution_count": 12,
     "metadata": {},
     "output_type": "execute_result"
    }
   ],
   "source": [
    "df.groupby(\"Age Group\").agg({\"Orders\":sum})"
   ]
  },
  {
   "cell_type": "code",
   "execution_count": 13,
   "id": "6040f27a-1030-4656-9e74-492b43522685",
   "metadata": {},
   "outputs": [
    {
     "data": {
      "text/plain": [
       "(11251, 15)"
      ]
     },
     "execution_count": 13,
     "metadata": {},
     "output_type": "execute_result"
    }
   ],
   "source": [
    "df.shape"
   ]
  },
  {
   "cell_type": "code",
   "execution_count": 14,
   "id": "e4ea2f77-51f9-42c5-b447-a8814aba6783",
   "metadata": {},
   "outputs": [
    {
     "data": {
      "text/plain": [
       "User_ID                 0\n",
       "Cust_name               0\n",
       "Product_ID              0\n",
       "Gender                  0\n",
       "Age Group               0\n",
       "Age                     0\n",
       "Marital_Status          0\n",
       "State                   0\n",
       "Zone                    0\n",
       "Occupation              0\n",
       "Product_Category        0\n",
       "Orders                  0\n",
       "Amount                 12\n",
       "Status              11251\n",
       "unnamed1            11251\n",
       "dtype: int64"
      ]
     },
     "execution_count": 14,
     "metadata": {},
     "output_type": "execute_result"
    }
   ],
   "source": [
    "df.isnull().sum()"
   ]
  },
  {
   "cell_type": "code",
   "execution_count": 15,
   "id": "22daafaa-34ab-448e-b7f2-0610776bc881",
   "metadata": {},
   "outputs": [
    {
     "data": {
      "text/plain": [
       "(11251, 15)"
      ]
     },
     "execution_count": 15,
     "metadata": {},
     "output_type": "execute_result"
    }
   ],
   "source": [
    "df.shape"
   ]
  },
  {
   "cell_type": "code",
   "execution_count": 16,
   "id": "bbc34042-84bd-4519-8a38-8cd611ccf784",
   "metadata": {},
   "outputs": [
    {
     "data": {
      "text/plain": [
       "User_ID             3755\n",
       "Cust_name           1250\n",
       "Product_ID          2351\n",
       "Gender                 2\n",
       "Age Group              7\n",
       "Age                   81\n",
       "Marital_Status         2\n",
       "State                 16\n",
       "Zone                   5\n",
       "Occupation            15\n",
       "Product_Category      18\n",
       "Orders                 4\n",
       "Amount              6584\n",
       "Status                 0\n",
       "unnamed1               0\n",
       "dtype: int64"
      ]
     },
     "execution_count": 16,
     "metadata": {},
     "output_type": "execute_result"
    }
   ],
   "source": [
    "df.nunique()"
   ]
  },
  {
   "cell_type": "code",
   "execution_count": null,
   "id": "f9e79477-837a-4972-a91a-7a6935b303ee",
   "metadata": {},
   "outputs": [],
   "source": []
  },
  {
   "cell_type": "code",
   "execution_count": 17,
   "id": "cb2e47ab-a772-428f-9bbc-190552f5de30",
   "metadata": {},
   "outputs": [
    {
     "data": {
      "text/html": [
       "<div>\n",
       "<style scoped>\n",
       "    .dataframe tbody tr th:only-of-type {\n",
       "        vertical-align: middle;\n",
       "    }\n",
       "\n",
       "    .dataframe tbody tr th {\n",
       "        vertical-align: top;\n",
       "    }\n",
       "\n",
       "    .dataframe thead th {\n",
       "        text-align: right;\n",
       "    }\n",
       "</style>\n",
       "<table border=\"1\" class=\"dataframe\">\n",
       "  <thead>\n",
       "    <tr style=\"text-align: right;\">\n",
       "      <th></th>\n",
       "      <th>Orders</th>\n",
       "    </tr>\n",
       "    <tr>\n",
       "      <th>Age Group</th>\n",
       "      <th></th>\n",
       "    </tr>\n",
       "  </thead>\n",
       "  <tbody>\n",
       "    <tr>\n",
       "      <th>0-17</th>\n",
       "      <td>[2, 4, 4, 3, 2, 2, 3, 1, 1, 2, 2, 3, 3, 2, 1, ...</td>\n",
       "    </tr>\n",
       "    <tr>\n",
       "      <th>18-25</th>\n",
       "      <td>[4, 2, 2, 2, 4, 4, 2, 1, 4, 1, 2, 2, 1, 2, 2, ...</td>\n",
       "    </tr>\n",
       "    <tr>\n",
       "      <th>26-35</th>\n",
       "      <td>[1, 3, 3, 2, 1, 2, 4, 1, 4, 1, 1, 3, 3, 2, 1, ...</td>\n",
       "    </tr>\n",
       "    <tr>\n",
       "      <th>36-45</th>\n",
       "      <td>[3, 3, 2, 2, 3, 3, 4, 3, 2, 1, 1, 1, 3, 2, 1, ...</td>\n",
       "    </tr>\n",
       "    <tr>\n",
       "      <th>46-50</th>\n",
       "      <td>[3, 3, 2, 1, 2, 3, 2, 1, 4, 1, 1, 3, 1, 4, 4, ...</td>\n",
       "    </tr>\n",
       "    <tr>\n",
       "      <th>51-55</th>\n",
       "      <td>[1, 1, 2, 2, 4, 2, 4, 2, 4, 3, 2, 4, 4, 4, 2, ...</td>\n",
       "    </tr>\n",
       "    <tr>\n",
       "      <th>55+</th>\n",
       "      <td>[1, 3, 4, 2, 2, 1, 4, 4, 4, 2, 4, 1, 4, 3, 2, ...</td>\n",
       "    </tr>\n",
       "  </tbody>\n",
       "</table>\n",
       "</div>"
      ],
      "text/plain": [
       "                                                      Orders\n",
       "Age Group                                                   \n",
       "0-17       [2, 4, 4, 3, 2, 2, 3, 1, 1, 2, 2, 3, 3, 2, 1, ...\n",
       "18-25      [4, 2, 2, 2, 4, 4, 2, 1, 4, 1, 2, 2, 1, 2, 2, ...\n",
       "26-35      [1, 3, 3, 2, 1, 2, 4, 1, 4, 1, 1, 3, 3, 2, 1, ...\n",
       "36-45      [3, 3, 2, 2, 3, 3, 4, 3, 2, 1, 1, 1, 3, 2, 1, ...\n",
       "46-50      [3, 3, 2, 1, 2, 3, 2, 1, 4, 1, 1, 3, 1, 4, 4, ...\n",
       "51-55      [1, 1, 2, 2, 4, 2, 4, 2, 4, 3, 2, 4, 4, 4, 2, ...\n",
       "55+        [1, 3, 4, 2, 2, 1, 4, 4, 4, 2, 4, 1, 4, 3, 2, ..."
      ]
     },
     "execution_count": 17,
     "metadata": {},
     "output_type": "execute_result"
    }
   ],
   "source": [
    "df.groupby(\"Age Group\").agg({\"Orders\":list})"
   ]
  },
  {
   "cell_type": "code",
   "execution_count": 19,
   "id": "8197595d-a1ab-4134-bc6b-becfb69f685d",
   "metadata": {},
   "outputs": [
    {
     "name": "stderr",
     "output_type": "stream",
     "text": [
      "C:\\Users\\Rahul\\AppData\\Local\\Temp\\ipykernel_15932\\3012821550.py:1: FutureWarning: The provided callable <built-in function sum> is currently using SeriesGroupBy.sum. In a future version of pandas, the provided callable will be used directly. To keep current behavior pass the string \"sum\" instead.\n",
      "  df.groupby(\"Age Group\").agg({\"Orders\":sum}).head()\n"
     ]
    },
    {
     "data": {
      "text/html": [
       "<div>\n",
       "<style scoped>\n",
       "    .dataframe tbody tr th:only-of-type {\n",
       "        vertical-align: middle;\n",
       "    }\n",
       "\n",
       "    .dataframe tbody tr th {\n",
       "        vertical-align: top;\n",
       "    }\n",
       "\n",
       "    .dataframe thead th {\n",
       "        text-align: right;\n",
       "    }\n",
       "</style>\n",
       "<table border=\"1\" class=\"dataframe\">\n",
       "  <thead>\n",
       "    <tr style=\"text-align: right;\">\n",
       "      <th></th>\n",
       "      <th>Orders</th>\n",
       "    </tr>\n",
       "    <tr>\n",
       "      <th>Age Group</th>\n",
       "      <th></th>\n",
       "    </tr>\n",
       "  </thead>\n",
       "  <tbody>\n",
       "    <tr>\n",
       "      <th>0-17</th>\n",
       "      <td>690</td>\n",
       "    </tr>\n",
       "    <tr>\n",
       "      <th>18-25</th>\n",
       "      <td>4650</td>\n",
       "    </tr>\n",
       "    <tr>\n",
       "      <th>26-35</th>\n",
       "      <td>11398</td>\n",
       "    </tr>\n",
       "    <tr>\n",
       "      <th>36-45</th>\n",
       "      <td>5697</td>\n",
       "    </tr>\n",
       "    <tr>\n",
       "      <th>46-50</th>\n",
       "      <td>2379</td>\n",
       "    </tr>\n",
       "  </tbody>\n",
       "</table>\n",
       "</div>"
      ],
      "text/plain": [
       "           Orders\n",
       "Age Group        \n",
       "0-17          690\n",
       "18-25        4650\n",
       "26-35       11398\n",
       "36-45        5697\n",
       "46-50        2379"
      ]
     },
     "execution_count": 19,
     "metadata": {},
     "output_type": "execute_result"
    }
   ],
   "source": [
    "df.groupby(\"Age Group\").agg({\"Orders\":sum}).head()"
   ]
  },
  {
   "cell_type": "code",
   "execution_count": 20,
   "id": "09601529-5522-4c75-8971-96c51e4b9a13",
   "metadata": {},
   "outputs": [
    {
     "name": "stdout",
     "output_type": "stream",
     "text": [
      "       User_ID    Cust_name Product_ID Gender Age Group  Age  Marital_Status  \\\n",
      "0      1002903    Sanskriti  P00125942      F     26-35   28               0   \n",
      "1      1000732       Kartik  P00110942      F     26-35   35               1   \n",
      "2      1001990        Bindu  P00118542      F     26-35   35               1   \n",
      "3      1001425       Sudevi  P00237842      M      0-17   16               0   \n",
      "4      1000588         Joni  P00057942      M     26-35   28               1   \n",
      "...        ...          ...        ...    ...       ...  ...             ...   \n",
      "11246  1000695      Manning  P00296942      M     18-25   19               1   \n",
      "11247  1004089  Reichenbach  P00171342      M     26-35   33               0   \n",
      "11248  1001209        Oshin  P00201342      F     36-45   40               0   \n",
      "11249  1004023       Noonan  P00059442      M     36-45   37               0   \n",
      "11250  1002744      Brumley  P00281742      F     18-25   19               0   \n",
      "\n",
      "                State      Zone       Occupation Product_Category  Orders  \\\n",
      "0         Maharashtra   Western       Healthcare             Auto       1   \n",
      "1      Andhra Pradesh  Southern             Govt             Auto       3   \n",
      "2       Uttar Pradesh   Central       Automobile             Auto       3   \n",
      "3           Karnataka  Southern     Construction             Auto       2   \n",
      "4             Gujarat   Western  Food Processing             Auto       2   \n",
      "...               ...       ...              ...              ...     ...   \n",
      "11246     Maharashtra   Western         Chemical           Office       4   \n",
      "11247         Haryana  Northern       Healthcare       Veterinary       3   \n",
      "11248  Madhya Pradesh   Central          Textile           Office       4   \n",
      "11249       Karnataka  Southern      Agriculture           Office       3   \n",
      "11250     Maharashtra   Western       Healthcare           Office       3   \n",
      "\n",
      "        Amount  Status  unnamed1  \n",
      "0      23952.0     NaN       NaN  \n",
      "1      23934.0     NaN       NaN  \n",
      "2      23924.0     NaN       NaN  \n",
      "3      23912.0     NaN       NaN  \n",
      "4      23877.0     NaN       NaN  \n",
      "...        ...     ...       ...  \n",
      "11246    370.0     NaN       NaN  \n",
      "11247    367.0     NaN       NaN  \n",
      "11248    213.0     NaN       NaN  \n",
      "11249    206.0     NaN       NaN  \n",
      "11250    188.0     NaN       NaN  \n",
      "\n",
      "[11251 rows x 15 columns]\n"
     ]
    }
   ],
   "source": [
    "print(df)"
   ]
  },
  {
   "cell_type": "code",
   "execution_count": null,
   "id": "1e304f43-8807-4220-8e8d-13fce3dfaea6",
   "metadata": {},
   "outputs": [],
   "source": []
  },
  {
   "cell_type": "code",
   "execution_count": null,
   "id": "4e9e69ff-fc8a-448b-bbe1-c49ce828ba02",
   "metadata": {},
   "outputs": [],
   "source": []
  },
  {
   "cell_type": "code",
   "execution_count": 29,
   "id": "876d8832-e617-4822-b66f-d649bbf1c024",
   "metadata": {},
   "outputs": [],
   "source": [
    "s=\"\"\"ni0'dhi ka,m'al\"\"\""
   ]
  },
  {
   "cell_type": "code",
   "execution_count": 30,
   "id": "39bd9c01-9d4a-4deb-9888-119a6e8b7f4a",
   "metadata": {},
   "outputs": [
    {
     "data": {
      "text/plain": [
       "\"ni0'dhi ka,m'al\""
      ]
     },
     "execution_count": 30,
     "metadata": {},
     "output_type": "execute_result"
    }
   ],
   "source": [
    "s"
   ]
  },
  {
   "cell_type": "code",
   "execution_count": 31,
   "id": "e63a05ff-e598-4391-b104-c6fb90bc1970",
   "metadata": {},
   "outputs": [],
   "source": [
    "s = \"hello geeks\""
   ]
  },
  {
   "cell_type": "code",
   "execution_count": 32,
   "id": "40b95e79-6b34-449b-9461-8f7f586d2811",
   "metadata": {},
   "outputs": [],
   "source": [
    "on= \"Hello GG\""
   ]
  },
  {
   "cell_type": "code",
   "execution_count": 33,
   "id": "fc3169de-91f6-4ffd-98d3-23fb1889fe11",
   "metadata": {},
   "outputs": [
    {
     "data": {
      "text/plain": [
       "'h'"
      ]
     },
     "execution_count": 33,
     "metadata": {},
     "output_type": "execute_result"
    }
   ],
   "source": [
    "s[0]"
   ]
  },
  {
   "cell_type": "code",
   "execution_count": 35,
   "id": "61cf5f80-89d7-4925-bc59-b0c013ad8096",
   "metadata": {},
   "outputs": [],
   "source": [
    "v1=\"H\""
   ]
  },
  {
   "cell_type": "code",
   "execution_count": 37,
   "id": "51c0fda1-24aa-49ce-b892-ae03a0441754",
   "metadata": {},
   "outputs": [
    {
     "data": {
      "text/plain": [
       "'Hello geeks'"
      ]
     },
     "execution_count": 37,
     "metadata": {},
     "output_type": "execute_result"
    }
   ],
   "source": [
    "v1+s[1:]"
   ]
  },
  {
   "cell_type": "code",
   "execution_count": 64,
   "id": "a54971e0-9cdc-47c8-8d5d-c402d039bf33",
   "metadata": {},
   "outputs": [],
   "source": [
    " list = [54, 43, 2, 1, 5]"
   ]
  },
  {
   "cell_type": "code",
   "execution_count": 65,
   "id": "5cf9d875-58d3-4e37-8f75-1c273e467f37",
   "metadata": {},
   "outputs": [],
   "source": [
    "def add_sum(number):\n",
    "    total=0\n",
    "    for i in number:\n",
    "        total=total+i\n",
    "       \n",
    "    return total\n"
   ]
  },
  {
   "cell_type": "code",
   "execution_count": 66,
   "id": "8a811cdb-ba54-49ed-b1b0-ebdc8cf500ba",
   "metadata": {},
   "outputs": [
    {
     "data": {
      "text/plain": [
       "105"
      ]
     },
     "execution_count": 66,
     "metadata": {},
     "output_type": "execute_result"
    }
   ],
   "source": [
    "add_sum(arr)"
   ]
  },
  {
   "cell_type": "code",
   "execution_count": 84,
   "id": "c1b572a8-e9c3-401c-9938-116d5b6b006b",
   "metadata": {},
   "outputs": [
    {
     "name": "stdout",
     "output_type": "stream",
     "text": [
      "[54, 43, 2, 1, 5]\n"
     ]
    }
   ],
   "source": [
    "print(arr)"
   ]
  },
  {
   "cell_type": "code",
   "execution_count": 119,
   "id": "653473a0-50b2-4dba-9d70-acf7907c9b1e",
   "metadata": {},
   "outputs": [],
   "source": [
    "def multiply(number):\n",
    "    total=1\n",
    "    for i in number:\n",
    "        total=total*i\n",
    "    return total\n",
    "    \n",
    "        \n",
    "    "
   ]
  },
  {
   "cell_type": "code",
   "execution_count": 86,
   "id": "1624cdbb-1008-45c4-a8fd-12959b53ec17",
   "metadata": {},
   "outputs": [
    {
     "data": {
      "text/plain": [
       "23220"
      ]
     },
     "execution_count": 86,
     "metadata": {},
     "output_type": "execute_result"
    }
   ],
   "source": [
    "multiply(arr)"
   ]
  },
  {
   "cell_type": "code",
   "execution_count": 91,
   "id": "df6ad3bf-0469-40a0-9fcb-8942de61a911",
   "metadata": {},
   "outputs": [],
   "source": [
    "def plus_1_in_each_number(number):\n",
    "    for i in range(len(number)):\n",
    "        number[i]=number[i]+1\n",
    "    return(number)\n",
    "        "
   ]
  },
  {
   "cell_type": "code",
   "execution_count": 92,
   "id": "98d9ff80-5595-4829-8d64-74c0fdf0ce3c",
   "metadata": {},
   "outputs": [
    {
     "data": {
      "text/plain": [
       "[57, 46, 5, 4, 8]"
      ]
     },
     "execution_count": 92,
     "metadata": {},
     "output_type": "execute_result"
    }
   ],
   "source": [
    "plus_1_in_each_number(arr)"
   ]
  },
  {
   "cell_type": "code",
   "execution_count": 93,
   "id": "b70e5fbb-e4e1-46c7-b5d5-6c6fe7a48d89",
   "metadata": {},
   "outputs": [],
   "source": [
    "a=[1,2,3,4,5]"
   ]
  },
  {
   "cell_type": "code",
   "execution_count": 112,
   "id": "c811331d-114b-43b6-baae-fa604a2001aa",
   "metadata": {},
   "outputs": [],
   "source": [
    "def step_up(numbers):\n",
    "    v=1\n",
    "    for i in range(len(numbers)):\n",
    "        numbers[i]=numbers[i]*v\n",
    "        v=v+2\n",
    "    return(numbers)"
   ]
  },
  {
   "cell_type": "code",
   "execution_count": 118,
   "id": "9dfe7f99-7105-441b-8736-ee25037dba26",
   "metadata": {},
   "outputs": [
    {
     "name": "stdout",
     "output_type": "stream",
     "text": [
      "5\n"
     ]
    }
   ],
   "source": [
    "print(len(a))"
   ]
  },
  {
   "cell_type": "code",
   "execution_count": 117,
   "id": "19eadc53-c6e8-4bb7-b877-7d9b5f94e9c8",
   "metadata": {},
   "outputs": [
    {
     "name": "stdout",
     "output_type": "stream",
     "text": [
      "1\n",
      "3\n"
     ]
    }
   ],
   "source": [
    "b={a:1, b:2,c:3}\n",
    "    print(i)\n",
    "    "
   ]
  },
  {
   "cell_type": "code",
   "execution_count": 121,
   "id": "2077a1e3-e69b-439a-bda1-fcb68617aa70",
   "metadata": {},
   "outputs": [
    {
     "name": "stdout",
     "output_type": "stream",
     "text": [
      "2\n",
      "4\n",
      "6\n",
      "8\n"
     ]
    }
   ],
   "source": [
    "number=[1,2,3,4]\n",
    "v=2\n",
    "for i in number:\n",
    "    print(v*i)\n",
    "    \n",
    "    "
   ]
  },
  {
   "cell_type": "code",
   "execution_count": 123,
   "id": "23745871-4f49-4045-9092-6825a448f9a9",
   "metadata": {},
   "outputs": [
    {
     "name": "stdout",
     "output_type": "stream",
     "text": [
      "r\n",
      "a\n",
      "h\n",
      "u\n",
      "l\n"
     ]
    },
    {
     "data": {
      "text/plain": [
       "5"
      ]
     },
     "execution_count": 123,
     "metadata": {},
     "output_type": "execute_result"
    }
   ],
   "source": [
    "my_string=\"rahul\"\n",
    "for i in my_string:\n",
    "    print(i)\n",
    "len(my_string)"
   ]
  },
  {
   "cell_type": "code",
   "execution_count": 124,
   "id": "74c2afe1-587e-4093-b2d3-e302f7173c4f",
   "metadata": {},
   "outputs": [
    {
     "data": {
      "text/plain": [
       "'helloworld'"
      ]
     },
     "execution_count": 124,
     "metadata": {},
     "output_type": "execute_result"
    }
   ],
   "source": [
    "a=\"hello\"\n",
    "b=\"world\"\n",
    "a+b"
   ]
  },
  {
   "cell_type": "code",
   "execution_count": 126,
   "id": "a7709bd6-c595-4cfd-a84f-afb4cc707872",
   "metadata": {},
   "outputs": [
    {
     "data": {
      "text/plain": [
       "'hello world'"
      ]
     },
     "execution_count": 126,
     "metadata": {},
     "output_type": "execute_result"
    }
   ],
   "source": [
    "a+\" \"+b #string sum opeartion"
   ]
  },
  {
   "cell_type": "code",
   "execution_count": 127,
   "id": "127fb27d-6cb1-4085-a9cb-fdc3eda8c129",
   "metadata": {},
   "outputs": [
    {
     "data": {
      "text/plain": [
       "'hello      world'"
      ]
     },
     "execution_count": 127,
     "metadata": {},
     "output_type": "execute_result"
    }
   ],
   "source": [
    "a+\"      \"+b"
   ]
  },
  {
   "cell_type": "code",
   "execution_count": 128,
   "id": "63fedd55-3d10-4f7b-a75a-a4ce3d0abade",
   "metadata": {},
   "outputs": [
    {
     "data": {
      "text/plain": [
       "'helloworldram'"
      ]
     },
     "execution_count": 128,
     "metadata": {},
     "output_type": "execute_result"
    }
   ],
   "source": [
    "c=\"ram\"\n",
    "a+b+c"
   ]
  },
  {
   "cell_type": "code",
   "execution_count": 149,
   "id": "f670de2c-d6be-4326-943d-e2fa4b85b502",
   "metadata": {},
   "outputs": [
    {
     "data": {
      "text/plain": [
       "29"
      ]
     },
     "execution_count": 149,
     "metadata": {},
     "output_type": "execute_result"
    }
   ],
   "source": [
    "a=(\"19\")  #if we want to add a string which contains numbers soo in that case we have to first convert string into interger by using casting.\n",
    "b=(\"10\")\n",
    "num=int(a)+int(b)\n",
    "num"
   ]
  },
  {
   "cell_type": "code",
   "execution_count": 153,
   "id": "980c18c6-175f-42c6-a483-da24850dc860",
   "metadata": {},
   "outputs": [],
   "source": [
    "def add_string(e,f):\n",
    "    return e+f\n",
    "    \n",
    "         \n",
    "    "
   ]
  },
  {
   "cell_type": "code",
   "execution_count": 158,
   "id": "1335f894-25ce-4588-815c-fbd6668e6741",
   "metadata": {},
   "outputs": [],
   "source": [
    "v=add_string(\"4\",\"5\")"
   ]
  },
  {
   "cell_type": "code",
   "execution_count": 159,
   "id": "6df9f10e-d6f3-4174-a7c9-d10f48edbdd2",
   "metadata": {},
   "outputs": [
    {
     "name": "stdout",
     "output_type": "stream",
     "text": [
      "None\n"
     ]
    }
   ],
   "source": [
    "print(v)"
   ]
  },
  {
   "cell_type": "code",
   "execution_count": 161,
   "id": "4a81f02f-148e-44ff-b789-05292bd68165",
   "metadata": {},
   "outputs": [
    {
     "name": "stdout",
     "output_type": "stream",
     "text": [
      "Hello World\n"
     ]
    }
   ],
   "source": [
    "def add_string(a, b):\n",
    "    \n",
    "    return a + b\n",
    "\n",
    "# Example usage:\n",
    "result = add_string(\"Hello \", \"World\")\n",
    "print(result)\n"
   ]
  },
  {
   "cell_type": "code",
   "execution_count": 170,
   "id": "df217327-7bcd-4fdd-bd25-7f51903999f3",
   "metadata": {},
   "outputs": [
    {
     "data": {
      "text/plain": [
       "10"
      ]
     },
     "execution_count": 170,
     "metadata": {},
     "output_type": "execute_result"
    }
   ],
   "source": [
    "def adding_string(a,b):\n",
    "    c=a+b\n",
    "    return(c)\n",
    "\n",
    "result= adding_string(5,5)\n",
    "result"
   ]
  },
  {
   "cell_type": "code",
   "execution_count": 167,
   "id": "fae14a03-06d8-457c-a4a7-0ff4b321e759",
   "metadata": {},
   "outputs": [
    {
     "data": {
      "text/plain": [
       "'not equal'"
      ]
     },
     "execution_count": 167,
     "metadata": {},
     "output_type": "execute_result"
    }
   ],
   "source": [
    "def equal_sum(a,b):\n",
    "    if a==b:\n",
    "        return(\"equal\")\n",
    "    else:\n",
    "        return(\"not equal\")\n",
    "#example\n",
    "equal_sum(2,3)"
   ]
  },
  {
   "cell_type": "code",
   "execution_count": null,
   "id": "132179cc-16d6-414b-ad87-47154c3c43f6",
   "metadata": {},
   "outputs": [],
   "source": []
  }
 ],
 "metadata": {
  "kernelspec": {
   "display_name": "Python 3 (ipykernel)",
   "language": "python",
   "name": "python3"
  },
  "language_info": {
   "codemirror_mode": {
    "name": "ipython",
    "version": 3
   },
   "file_extension": ".py",
   "mimetype": "text/x-python",
   "name": "python",
   "nbconvert_exporter": "python",
   "pygments_lexer": "ipython3",
   "version": "3.10.11"
  }
 },
 "nbformat": 4,
 "nbformat_minor": 5
}
